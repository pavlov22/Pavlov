{
  "nbformat": 4,
  "nbformat_minor": 0,
  "metadata": {
    "colab": {
      "provenance": [],
      "name": "лб 2",
      "authorship_tag": "ABX9TyPUq0kQoRhVAoKIZmH+/G5d",
      "include_colab_link": true
    },
    "kernelspec": {
      "name": "python3",
      "display_name": "Python 3"
    },
    "language_info": {
      "name": "python"
    }
  },
  "cells": [
    {
      "cell_type": "markdown",
      "metadata": {
        "id": "view-in-github",
        "colab_type": "text"
      },
      "source": [
        "<a href=\"https://colab.research.google.com/github/pavlov22/Pavlov/blob/main/%D0%BB%D0%B1_2.ipynb\" target=\"_parent\"><img src=\"https://colab.research.google.com/assets/colab-badge.svg\" alt=\"Open In Colab\"/></a>"
      ]
    },
    {
      "cell_type": "code",
      "execution_count": 5,
      "metadata": {
        "id": "hrMmK2Lx7EGv",
        "outputId": "14343742-cedc-4c98-e4d9-14d86095be36",
        "colab": {
          "base_uri": "https://localhost:8080/"
        }
      },
      "outputs": [
        {
          "output_type": "stream",
          "name": "stdout",
          "text": [
            "\n",
            " Аналіз HTTP кодів:\n",
            "Код 1024: 1 разів\n",
            "Код 512: 1 разів\n",
            "Код 256: 2 разів\n",
            "Код 128: 1 разів\n",
            "\n",
            " Хеші файлів (SHA-256):\n",
            "apache_logs.txt: c77caecb013d7500d926e7893833790f9ef278de1cdfd72388672401da7436bd\n",
            "\n",
            " Фільтрація дозволених IP-адрес:\n",
            " Результат збережено у файл 'filtered_ips.txt'\n"
          ]
        }
      ],
      "source": [
        "import os\n",
        "import hashlib\n",
        "from collections import defaultdict\n",
        "\n",
        "# === Створюємо тестовий лог-файл, якщо його немає ===\n",
        "log_path = \"apache_logs.txt\"\n",
        "if not os.path.exists(log_path):\n",
        "    with open(log_path, 'w') as f:\n",
        "        f.write(\"\"\"127.0.0.1 - - [23/Jun/2025:10:05:00] \"GET /index.html HTTP/1.1\" 200 1024\n",
        "192.168.0.100 - - [23/Jun/2025:10:05:01] \"POST /login HTTP/1.1\" 404 512\n",
        "127.0.0.1 - - [23/Jun/2025:10:05:02] \"GET /about HTTP/1.1\" 200 256\n",
        "10.0.0.5 - - [23/Jun/2025:10:05:03] \"GET /admin HTTP/1.1\" 403 128\n",
        "127.0.0.1 - - [23/Jun/2025:10:05:04] \"GET /home HTTP/1.1\" 200 256\n",
        "\"\"\")\n",
        "\n",
        "# === Завдання 1: Аналізатор лог-файлів ===\n",
        "def analyze_log_file(log_file_path):\n",
        "    result = {}\n",
        "    try:\n",
        "        with open(log_file_path, 'r') as file:\n",
        "            for line in file:\n",
        "                parts = line.strip().split()\n",
        "                if len(parts) > 8:\n",
        "                    try:\n",
        "                        code = int(parts[8])\n",
        "                        result[code] = result.get(code, 0) + 1\n",
        "                    except ValueError:\n",
        "                        continue\n",
        "        return result\n",
        "    except FileNotFoundError:\n",
        "        print(f\" Файл '{log_file_path}' не знайдено.\")\n",
        "    except IOError as e:\n",
        "        print(f\" Помилка читання файлу '{log_file_path}': {e}\")\n",
        "    return {}\n",
        "\n",
        "# === Завдання 2: Генератор хешів файлів ===\n",
        "def generate_file_hashes(*file_paths):\n",
        "    hashes = {}\n",
        "    for path in file_paths:\n",
        "        try:\n",
        "            with open(path, 'rb') as file:\n",
        "                content = file.read()\n",
        "                file_hash = hashlib.sha256(content).hexdigest()\n",
        "                hashes[path] = file_hash\n",
        "        except FileNotFoundError:\n",
        "            print(f\" Файл '{path}' не знайдено.\")\n",
        "        except IOError as e:\n",
        "            print(f\" Помилка читання файлу '{path}': {e}\")\n",
        "    return hashes\n",
        "\n",
        "# === Завдання 3: Фільтрація IP-адрес з файлу ===\n",
        "def filter_ips(input_file_path, output_file_path, allowed_ips):\n",
        "    ip_counts = defaultdict(int)\n",
        "\n",
        "    try:\n",
        "        with open(input_file_path, 'r') as infile:\n",
        "            for line in infile:\n",
        "                parts = line.strip().split()\n",
        "                if parts:\n",
        "                    ip = parts[0]\n",
        "                    if ip in allowed_ips:\n",
        "                        ip_counts[ip] += 1\n",
        "\n",
        "        try:\n",
        "            with open(output_file_path, 'w') as outfile:\n",
        "                for ip, count in ip_counts.items():\n",
        "                    outfile.write(f\"{ip} - {count}\\n\")\n",
        "            print(f\" Результат збережено у файл '{output_file_path}'\")\n",
        "        except IOError as e:\n",
        "            print(f\" Помилка запису у файл '{output_file_path}': {e}\")\n",
        "    except FileNotFoundError:\n",
        "        print(f\" Вхідний файл '{input_file_path}' не знайдено.\")\n",
        "    except IOError as e:\n",
        "        print(f\" Помилка читання вхідного файлу '{input_file_path}': {e}\")\n",
        "\n",
        "# === Запуск ===\n",
        "if __name__ == \"__main__\":\n",
        "    print(\"\\n Аналіз HTTP кодів:\")\n",
        "    log_stats = analyze_log_file(log_path)\n",
        "    for code, count in log_stats.items():\n",
        "        print(f\"Код {code}: {count} разів\")\n",
        "\n",
        "    print(\"\\n Хеші файлів (SHA-256):\")\n",
        "    hashes = generate_file_hashes(log_path)\n",
        "    for path, h in hashes.items():\n",
        "        print(f\"{path}: {h}\")\n",
        "\n",
        "    print(\"\\n Фільтрація дозволених IP-адрес:\")\n",
        "    allowed = [\"127.0.0.1\", \"192.168.0.100\"]\n",
        "    output_path = \"filtered_ips.txt\"\n",
        "    filter_ips(log_path, output_path, allowed)\n"
      ]
    }
  ]
}