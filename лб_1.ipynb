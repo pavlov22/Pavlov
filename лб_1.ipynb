{
  "nbformat": 4,
  "nbformat_minor": 0,
  "metadata": {
    "colab": {
      "provenance": [],
      "name": "лб 1",
      "authorship_tag": "ABX9TyORTb0Rjw7E428XkKeJtFvT",
      "include_colab_link": true
    },
    "kernelspec": {
      "name": "python3",
      "display_name": "Python 3"
    },
    "language_info": {
      "name": "python"
    }
  },
  "cells": [
    {
      "cell_type": "markdown",
      "metadata": {
        "id": "view-in-github",
        "colab_type": "text"
      },
      "source": [
        "<a href=\"https://colab.research.google.com/github/pavlov22/Pavlov/blob/main/%D0%BB%D0%B1_1.ipynb\" target=\"_parent\"><img src=\"https://colab.research.google.com/assets/colab-badge.svg\" alt=\"Open In Colab\"/></a>"
      ]
    },
    {
      "cell_type": "code",
      "execution_count": 6,
      "metadata": {
        "id": "hrMmK2Lx7EGv",
        "colab": {
          "base_uri": "https://localhost:8080/"
        },
        "outputId": "3d4d0484-7a7a-4a0a-95b2-8b439ac55a69"
      },
      "outputs": [
        {
          "output_type": "stream",
          "name": "stdout",
          "text": [
            "Користувача Павлов Володимир Володимирович додано успішно.\n"
          ]
        }
      ],
      "source": [
        "import sqlite3\n",
        "import hashlib\n",
        "\n",
        "# Підключення до БД\n",
        "conn = sqlite3.connect(\"users.db\")\n",
        "cursor = conn.cursor()\n",
        "\n",
        "# Створення таблиці\n",
        "cursor.execute(\"\"\"\n",
        "CREATE TABLE IF NOT EXISTS users (\n",
        "    login TEXT PRIMARY KEY,\n",
        "    password TEXT NOT NULL,\n",
        "    full_name TEXT NOT NULL\n",
        ")\n",
        "\"\"\")\n",
        "conn.commit()\n",
        "\n",
        "# Хешування пароля\n",
        "def hash_password(password):\n",
        "    return hashlib.sha256(password.encode()).hexdigest()\n",
        "\n",
        "# Додавання нового користувача\n",
        "def add_user(login, password, full_name):\n",
        "    hashed = hash_password(password)\n",
        "    try:\n",
        "        cursor.execute(\"INSERT INTO users (login, password, full_name) VALUES (?, ?, ?)\",\n",
        "                       (login, hashed, full_name))\n",
        "        conn.commit()\n",
        "        print(f\"Користувача {full_name} додано успішно.\")\n",
        "    except sqlite3.IntegrityError:\n",
        "        print(\" Користувач з таким логіном вже існує.\")\n",
        "\n",
        "# Оновлення пароля\n",
        "def update_password(login, new_password):\n",
        "    hashed = hash_password(new_password)\n",
        "    cursor.execute(\"UPDATE users SET password = ? WHERE login = ?\", (hashed, login))\n",
        "    conn.commit()\n",
        "    if cursor.rowcount:\n",
        "        print(\" Пароль оновлено.\")\n",
        "    else:\n",
        "        print(\" Користувача не знайдено.\")\n",
        "\n",
        "# Перевірка автентифікації\n",
        "def authenticate(login):\n",
        "    password = input(\" Введіть пароль: \")\n",
        "    hashed = hash_password(password)\n",
        "    cursor.execute(\"SELECT full_name FROM users WHERE login = ? AND password = ?\", (login, hashed))\n",
        "    result = cursor.fetchone()\n",
        "    if result:\n",
        "        full_name = result[0]\n",
        "        print(f\" Автентифікація успішна. Вітаємо, {full_name}!\")\n",
        "    else:\n",
        "        print(\" Невірний логін або пароль.\")\n",
        "\n",
        "\n",
        "\n",
        "add_user(\"volodymyr.pavlоv\", \"my_secure_password\", \"Павлов Володимир Володимирович\")"
      ]
    }
  ]
}